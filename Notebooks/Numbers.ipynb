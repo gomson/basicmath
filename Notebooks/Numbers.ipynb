{
 "cells": [
  {
   "cell_type": "code",
   "execution_count": 1,
   "metadata": {
    "collapsed": false
   },
   "outputs": [],
   "source": [
    "from sympy import *\n",
    "init_printing()"
   ]
  },
  {
   "cell_type": "code",
   "execution_count": null,
   "metadata": {
    "collapsed": false
   },
   "outputs": [],
   "source": []
  },
  {
   "cell_type": "markdown",
   "metadata": {},
   "source": [
    "## Numbers"
   ]
  },
  {
   "cell_type": "markdown",
   "metadata": {},
   "source": [
    "$$\n",
    " \\mathbb{N} = \\{ 0, 1, 2, 3, 4, \\ldots \\}\n",
    "$$\n"
   ]
  },
  {
   "cell_type": "code",
   "execution_count": 2,
   "metadata": {
    "collapsed": false
   },
   "outputs": [
    {
     "data": {
      "image/png": "[encoded data removed]",
      "text/latex": [
       "$$3$$"
      ],
      "text/plain": [
       "3"
      ]
     },
     "execution_count": 2,
     "metadata": {},
     "output_type": "execute_result"
    }
   ],
   "source": [
    "1+2"
   ]
  },
  {
   "cell_type": "markdown",
   "metadata": {},
   "source": [
    "$$\n",
    " \\mathbb{Z} = \\{ \\ldots, -4, -3, -2, -1, 0, 1, 2, 3, 4, \\ldots \\}\n",
    "$$"
   ]
  },
  {
   "cell_type": "code",
   "execution_count": 3,
   "metadata": {
    "collapsed": false
   },
   "outputs": [
    {
     "data": {
      "image/png": "[encoded data removed]",
      "text/latex": [
       "$$-3$$"
      ],
      "text/plain": [
       "-3"
      ]
     },
     "execution_count": 3,
     "metadata": {},
     "output_type": "execute_result"
    }
   ],
   "source": [
    "2-5"
   ]
  },
  {
   "cell_type": "code",
   "execution_count": null,
   "metadata": {
    "collapsed": true
   },
   "outputs": [],
   "source": []
  },
  {
   "cell_type": "markdown",
   "metadata": {},
   "source": [
    "Examples of rational numbers:\n",
    "\n",
    "$$\n",
    "\\mathbb{Q} = \\left\\{\\frac{5}{3}, \\frac{22}{7}, 1.5, 0.125,  -7, \\, \\ldots \\, \\right\\}\n",
    "$$\n",
    "\n",
    "or more precisely \n",
    "\n",
    "$$\n",
    "     \\mathbb{Q}\n",
    "      = \\left\\{ \\text{all } z  \\text{ such that } z=\\frac{x}{y} \\text{  where  }\n",
    "           x \\text{ and } y \\text{ are in } \\mathbb{Z}, \\text{ and }  y \\neq 0 \\right\\}\\!.\n",
    "$$"
   ]
  },
  {
   "cell_type": "code",
   "execution_count": 4,
   "metadata": {
    "collapsed": false
   },
   "outputs": [
    {
     "data": {
      "image/png": "[encoded data removed]",
      "text/latex": [
       "$$\\frac{2}{3}$$"
      ],
      "text/plain": [
       "2/3"
      ]
     },
     "execution_count": 4,
     "metadata": {},
     "output_type": "execute_result"
    }
   ],
   "source": [
    "S(2)/3"
   ]
  },
  {
   "cell_type": "code",
   "execution_count": 5,
   "metadata": {
    "collapsed": false
   },
   "outputs": [
    {
     "data": {
      "image/png": "[encoded data removed]",
      "text/latex": [
       "$$\\frac{22}{15}$$"
      ],
      "text/plain": [
       "22\n",
       "──\n",
       "15"
      ]
     },
     "execution_count": 5,
     "metadata": {},
     "output_type": "execute_result"
    }
   ],
   "source": [
    "# addition of fractions\n",
    "S(2)/3 + S(4)/5"
   ]
  },
  {
   "cell_type": "code",
   "execution_count": 6,
   "metadata": {
    "collapsed": true
   },
   "outputs": [],
   "source": []
  },
  {
   "cell_type": "markdown",
   "metadata": {},
   "source": [
    "$$\\mathbb{R} = \\{-1,0,1, \\sqrt{2}, e,\\pi, \\  4.94\\ldots, \\ \\ldots \\, \\}$$"
   ]
  },
  {
   "cell_type": "markdown",
   "metadata": {},
   "source": [
    "![The diagonal of a square with side one is square root of two](http://sl2x.aimath.org/development/boman1b/images/Sqrt2.png)"
   ]
  },
  {
   "cell_type": "code",
   "execution_count": 7,
   "metadata": {
    "collapsed": false
   },
   "outputs": [
    {
     "data": {
      "image/png": "[encoded data removed]",
      "text/latex": [
       "$$\\sqrt{2}$$"
      ],
      "text/plain": [
       "√2"
      ]
     },
     "execution_count": 7,
     "metadata": {},
     "output_type": "execute_result"
    }
   ],
   "source": [
    "sqrt(2)"
   ]
  },
  {
   "cell_type": "code",
   "execution_count": 8,
   "metadata": {
    "collapsed": false
   },
   "outputs": [
    {
     "data": {
      "image/png": "[encoded data removed]",
      "text/latex": [
       "$$1.4142135623731$$"
      ],
      "text/plain": [
       "1.41421356237310"
      ]
     },
     "execution_count": 8,
     "metadata": {},
     "output_type": "execute_result"
    }
   ],
   "source": [
    "sqrt(2).n()"
   ]
  },
  {
   "cell_type": "code",
   "execution_count": 9,
   "metadata": {
    "collapsed": false
   },
   "outputs": [
    {
     "data": {
      "image/png": "[encoded data removed]",
      "text/latex": [
       "$$1.4142135623730950488$$"
      ],
      "text/plain": [
       "1.4142135623730950488"
      ]
     },
     "execution_count": 9,
     "metadata": {},
     "output_type": "execute_result"
    }
   ],
   "source": [
    "sqrt(2).n(20)"
   ]
  },
  {
   "cell_type": "code",
   "execution_count": 10,
   "metadata": {
    "collapsed": false
   },
   "outputs": [
    {
     "data": {
      "image/png": "[encoded data removed]",
      "text/latex": [
       "$$1.41421356237309504880168872420969807857$$"
      ],
      "text/plain": [
       "1.414213562373095048801688724209698078570"
      ]
     },
     "execution_count": 10,
     "metadata": {},
     "output_type": "execute_result"
    }
   ],
   "source": [
    "sqrt(2).n(40)"
   ]
  },
  {
   "cell_type": "code",
   "execution_count": null,
   "metadata": {
    "collapsed": true
   },
   "outputs": [],
   "source": []
  },
  {
   "cell_type": "code",
   "execution_count": 11,
   "metadata": {
    "collapsed": false
   },
   "outputs": [
    {
     "data": {
      "text/plain": [
       "False"
      ]
     },
     "execution_count": 11,
     "metadata": {},
     "output_type": "execute_result"
    }
   ],
   "source": [
    "sqrt(2).is_Rational"
   ]
  },
  {
   "cell_type": "code",
   "execution_count": null,
   "metadata": {
    "collapsed": false
   },
   "outputs": [],
   "source": []
  },
  {
   "cell_type": "code",
   "execution_count": null,
   "metadata": {
    "collapsed": false
   },
   "outputs": [],
   "source": []
  },
  {
   "cell_type": "markdown",
   "metadata": {},
   "source": [
    "### Number representations"
   ]
  },
  {
   "cell_type": "code",
   "execution_count": 12,
   "metadata": {
    "collapsed": false
   },
   "outputs": [
    {
     "data": {
      "image/png": "[encoded data removed]",
      "text/latex": [
       "$$1$$"
      ],
      "text/plain": [
       "1"
      ]
     },
     "execution_count": 12,
     "metadata": {},
     "output_type": "execute_result"
    }
   ],
   "source": [
    "0 +1"
   ]
  },
  {
   "cell_type": "code",
   "execution_count": 13,
   "metadata": {
    "collapsed": false
   },
   "outputs": [
    {
     "data": {
      "image/png": "[encoded data removed]",
      "text/latex": [
       "$$2$$"
      ],
      "text/plain": [
       "2"
      ]
     },
     "execution_count": 13,
     "metadata": {},
     "output_type": "execute_result"
    }
   ],
   "source": [
    "0 +1 +1"
   ]
  },
  {
   "cell_type": "code",
   "execution_count": 14,
   "metadata": {
    "collapsed": false
   },
   "outputs": [
    {
     "data": {
      "image/png": "[encoded data removed]",
      "text/latex": [
       "$$3$$"
      ],
      "text/plain": [
       "3"
      ]
     },
     "execution_count": 14,
     "metadata": {},
     "output_type": "execute_result"
    }
   ],
   "source": [
    "0 +1 +1 +1"
   ]
  },
  {
   "cell_type": "code",
   "execution_count": null,
   "metadata": {
    "collapsed": true
   },
   "outputs": [],
   "source": []
  },
  {
   "cell_type": "code",
   "execution_count": 15,
   "metadata": {
    "collapsed": false
   },
   "outputs": [
    {
     "data": {
      "image/png": "[encoded data removed]",
      "text/latex": [
       "$$1$$"
      ],
      "text/plain": [
       "1"
      ]
     },
     "execution_count": 15,
     "metadata": {},
     "output_type": "execute_result"
    }
   ],
   "source": [
    "1"
   ]
  },
  {
   "cell_type": "code",
   "execution_count": 16,
   "metadata": {
    "collapsed": false
   },
   "outputs": [
    {
     "data": {
      "image/png": "[encoded data removed]",
      "text/latex": [
       "$$10$$"
      ],
      "text/plain": [
       "10"
      ]
     },
     "execution_count": 16,
     "metadata": {},
     "output_type": "execute_result"
    }
   ],
   "source": [
    "10"
   ]
  },
  {
   "cell_type": "code",
   "execution_count": 17,
   "metadata": {
    "collapsed": false
   },
   "outputs": [
    {
     "data": {
      "image/png": "[encoded data removed]",
      "text/latex": [
       "$$100$$"
      ],
      "text/plain": [
       "100"
      ]
     },
     "execution_count": 17,
     "metadata": {},
     "output_type": "execute_result"
    }
   ],
   "source": [
    "100"
   ]
  },
  {
   "cell_type": "code",
   "execution_count": 18,
   "metadata": {
    "collapsed": false
   },
   "outputs": [
    {
     "data": {
      "image/png": "[encoded data removed]",
      "text/latex": [
       "$$1000$$"
      ],
      "text/plain": [
       "1000"
      ]
     },
     "execution_count": 18,
     "metadata": {},
     "output_type": "execute_result"
    }
   ],
   "source": [
    "1000"
   ]
  },
  {
   "cell_type": "code",
   "execution_count": 19,
   "metadata": {
    "collapsed": false
   },
   "outputs": [
    {
     "data": {
      "image/png": "[encoded data removed]",
      "text/latex": [
       "$$356$$"
      ],
      "text/plain": [
       "356"
      ]
     },
     "execution_count": 19,
     "metadata": {},
     "output_type": "execute_result"
    }
   ],
   "source": [
    "356"
   ]
  },
  {
   "cell_type": "code",
   "execution_count": 20,
   "metadata": {
    "collapsed": false
   },
   "outputs": [
    {
     "data": {
      "image/png": "[encoded data removed]",
      "text/latex": [
       "$$356$$"
      ],
      "text/plain": [
       "356"
      ]
     },
     "execution_count": 20,
     "metadata": {},
     "output_type": "execute_result"
    }
   ],
   "source": [
    "300+50+6"
   ]
  },
  {
   "cell_type": "code",
   "execution_count": 21,
   "metadata": {
    "collapsed": false
   },
   "outputs": [
    {
     "data": {
      "image/png": "[encoded data removed]",
      "text/latex": [
       "$$356$$"
      ],
      "text/plain": [
       "356"
      ]
     },
     "execution_count": 21,
     "metadata": {},
     "output_type": "execute_result"
    }
   ],
   "source": [
    "3*100 + 5*10 + 6"
   ]
  },
  {
   "cell_type": "code",
   "execution_count": 22,
   "metadata": {
    "collapsed": false
   },
   "outputs": [
    {
     "data": {
      "image/png": "[encoded data removed]",
      "text/latex": [
       "$$30$$"
      ],
      "text/plain": [
       "30"
      ]
     },
     "execution_count": 22,
     "metadata": {},
     "output_type": "execute_result"
    }
   ],
   "source": [
    "30"
   ]
  },
  {
   "cell_type": "code",
   "execution_count": 23,
   "metadata": {
    "collapsed": false
   },
   "outputs": [
    {
     "data": {
      "image/png": "[encoded data removed]",
      "text/latex": [
       "$$30$$"
      ],
      "text/plain": [
       "30"
      ]
     },
     "execution_count": 23,
     "metadata": {},
     "output_type": "execute_result"
    }
   ],
   "source": [
    "2*3*5"
   ]
  },
  {
   "cell_type": "code",
   "execution_count": null,
   "metadata": {
    "collapsed": true
   },
   "outputs": [],
   "source": []
  },
  {
   "cell_type": "code",
   "execution_count": 24,
   "metadata": {
    "collapsed": false
   },
   "outputs": [
    {
     "data": {
      "image/png": "[encoded data removed]",
      "text/latex": [
       "$$-1$$"
      ],
      "text/plain": [
       "-1"
      ]
     },
     "execution_count": 24,
     "metadata": {},
     "output_type": "execute_result"
    }
   ],
   "source": [
    "0 -1"
   ]
  },
  {
   "cell_type": "code",
   "execution_count": 25,
   "metadata": {
    "collapsed": false
   },
   "outputs": [
    {
     "data": {
      "image/png": "[encoded data removed]",
      "text/latex": [
       "$$-2$$"
      ],
      "text/plain": [
       "-2"
      ]
     },
     "execution_count": 25,
     "metadata": {},
     "output_type": "execute_result"
    }
   ],
   "source": [
    "0 -1 -1"
   ]
  },
  {
   "cell_type": "code",
   "execution_count": 26,
   "metadata": {
    "collapsed": false
   },
   "outputs": [
    {
     "data": {
      "image/png": "[encoded data removed]",
      "text/latex": [
       "$$-3$$"
      ],
      "text/plain": [
       "-3"
      ]
     },
     "execution_count": 26,
     "metadata": {},
     "output_type": "execute_result"
    }
   ],
   "source": [
    "0 -1 -1 -1"
   ]
  },
  {
   "cell_type": "code",
   "execution_count": null,
   "metadata": {
    "collapsed": true
   },
   "outputs": [],
   "source": []
  },
  {
   "cell_type": "code",
   "execution_count": 50,
   "metadata": {
    "collapsed": false
   },
   "outputs": [
    {
     "data": {
      "image/png": "[encoded data removed]",
      "text/latex": [
       "$$0.1$$"
      ],
      "text/plain": [
       "0.1"
      ]
     },
     "execution_count": 50,
     "metadata": {},
     "output_type": "execute_result"
    }
   ],
   "source": [
    "# decimal representation\n",
    "0.1  # = 1/10"
   ]
  },
  {
   "cell_type": "code",
   "execution_count": 28,
   "metadata": {
    "collapsed": false
   },
   "outputs": [
    {
     "data": {
      "image/png": "[encoded data removed]",
      "text/latex": [
       "$$0.3$$"
      ],
      "text/plain": [
       "0.3"
      ]
     },
     "execution_count": 28,
     "metadata": {},
     "output_type": "execute_result"
    }
   ],
   "source": [
    "0.3  # = 3/10"
   ]
  },
  {
   "cell_type": "code",
   "execution_count": 29,
   "metadata": {
    "collapsed": false
   },
   "outputs": [
    {
     "data": {
      "image/png": "[encoded data removed]",
      "text/latex": [
       "$$0.4$$"
      ],
      "text/plain": [
       "0.4"
      ]
     },
     "execution_count": 29,
     "metadata": {},
     "output_type": "execute_result"
    }
   ],
   "source": [
    "0.1 + 0.3"
   ]
  },
  {
   "cell_type": "code",
   "execution_count": null,
   "metadata": {
    "collapsed": true
   },
   "outputs": [],
   "source": []
  },
  {
   "cell_type": "code",
   "execution_count": 30,
   "metadata": {
    "collapsed": false
   },
   "outputs": [
    {
     "data": {
      "image/png": "[encoded data removed]",
      "text/latex": [
       "$$\\frac{7}{11}$$"
      ],
      "text/plain": [
       "7/11"
      ]
     },
     "execution_count": 30,
     "metadata": {},
     "output_type": "execute_result"
    }
   ],
   "source": [
    "S(7)/11"
   ]
  },
  {
   "cell_type": "code",
   "execution_count": 31,
   "metadata": {
    "collapsed": false
   },
   "outputs": [
    {
     "data": {
      "image/png": "[encoded data removed]",
      "text/latex": [
       "$$0.636363636363636$$"
      ],
      "text/plain": [
       "0.636363636363636"
      ]
     },
     "execution_count": 31,
     "metadata": {},
     "output_type": "execute_result"
    }
   ],
   "source": [
    "(S(7)/11).n()"
   ]
  },
  {
   "cell_type": "code",
   "execution_count": 32,
   "metadata": {
    "collapsed": false
   },
   "outputs": [
    {
     "data": {
      "image/png": "[encoded data removed]",
      "text/latex": [
       "$$0.63636363636363636364$$"
      ],
      "text/plain": [
       "0.63636363636363636364"
      ]
     },
     "execution_count": 32,
     "metadata": {},
     "output_type": "execute_result"
    }
   ],
   "source": [
    "(S(7)/11).n(20)"
   ]
  },
  {
   "cell_type": "code",
   "execution_count": 33,
   "metadata": {
    "collapsed": false
   },
   "outputs": [
    {
     "data": {
      "image/png": "[encoded data removed]",
      "text/latex": [
       "$$0.6363636363636363636363636363636363636364$$"
      ],
      "text/plain": [
       "0.6363636363636363636363636363636363636364"
      ]
     },
     "execution_count": 33,
     "metadata": {},
     "output_type": "execute_result"
    }
   ],
   "source": [
    "(S(7)/11).n(40)"
   ]
  },
  {
   "cell_type": "markdown",
   "metadata": {},
   "source": [
    "$$\n",
    "\\frac{7}{11} = 0.\\overline{63}\n",
    "$$"
   ]
  },
  {
   "cell_type": "code",
   "execution_count": null,
   "metadata": {
    "collapsed": true
   },
   "outputs": [],
   "source": []
  },
  {
   "cell_type": "markdown",
   "metadata": {},
   "source": [
    "#### Scientific notation"
   ]
  },
  {
   "cell_type": "code",
   "execution_count": 34,
   "metadata": {
    "collapsed": true
   },
   "outputs": [],
   "source": [
    "# this is how fast light travels through space\n",
    "c = 299792458 # [metres / second]  == really fast!"
   ]
  },
  {
   "cell_type": "code",
   "execution_count": 35,
   "metadata": {
    "collapsed": false
   },
   "outputs": [
    {
     "data": {
      "text/plain": [
       "True"
      ]
     },
     "execution_count": 35,
     "metadata": {},
     "output_type": "execute_result"
    }
   ],
   "source": [
    "c == 2.99792458 * 10**8"
   ]
  },
  {
   "cell_type": "code",
   "execution_count": 36,
   "metadata": {
    "collapsed": false
   },
   "outputs": [
    {
     "data": {
      "text/plain": [
       "True"
      ]
     },
     "execution_count": 36,
     "metadata": {},
     "output_type": "execute_result"
    }
   ],
   "source": [
    "c == 2.99792458e8"
   ]
  },
  {
   "cell_type": "code",
   "execution_count": null,
   "metadata": {
    "collapsed": true
   },
   "outputs": [],
   "source": []
  },
  {
   "cell_type": "markdown",
   "metadata": {},
   "source": [
    "## The number line"
   ]
  },
  {
   "cell_type": "code",
   "execution_count": 49,
   "metadata": {
    "collapsed": false
   },
   "outputs": [
    {
     "data": {
      "text/html": [
       "<img src=\"data:image/png;base64,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\">"
      ],
      "text/plain": [
       "<IPython.core.display.HTML object>"
      ]
     },
     "metadata": {},
     "output_type": "display_data"
    }
   ],
   "source": [
    "from IPython.display import display, HTML\n",
    "display(HTML('''<img src=\"data:image/png;base64,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\">'''))"
   ]
  },
  {
   "cell_type": "markdown",
   "metadata": {
    "collapsed": true
   },
   "source": [
    "click for source\n",
    "\n",
    "<!-- \n",
    "var RANGE = [-5, 5];\n",
    "var TICK_STEP = 1;\n",
    "var LABEL_TICKS = true;\n",
    "\n",
    "var LABELS = [\n",
    "    {\n",
    "        value:      7/11,\n",
    "        text:       \"\\\\frac{7}{11}\",\n",
    "        position:   \"above\",\n",
    "        color:      BLUE_D\n",
    "    },\n",
    "    {\n",
    "        value:      sqrt(2),\n",
    "        text:       \"\\\\sqrt{2}\",\n",
    "        position:   \"above\",\n",
    "        color:      RED_D\n",
    "    },\n",
    "];\n",
    "\n",
    "var HIGHLIGHTED_TICKS = [\n",
    "    [ 7/11, BLUE_D ],\n",
    "    [ sqrt(2), RED_D ],\n",
    "];\n",
    "\n",
    "var POINTS = [\n",
    "    [ 2, BLACK ],\n",
    "    [ 3, BLACK ],\n",
    "    [ 5, BLACK ],\n",
    "]\n",
    "\n",
    "\n",
    "\n",
    "///////////////////////////////////////////////////////////////\n",
    "\n",
    "var SCALE = 400 / (RANGE[1] - RANGE[0]);\n",
    "\n",
    "init({\n",
    "    range: [[RANGE[0] - (30 / SCALE), RANGE[1] + (30 / SCALE)],\n",
    "            [-1, 1]],\n",
    "    scale: [SCALE, 40]\n",
    "});\n",
    "\n",
    "var minusIgnorer = function(a) {\n",
    "    return (a + \"\").replace(/-(\\d)/g, \"\\\\llap{-}$1\");\n",
    "};\n",
    "\n",
    "line([RANGE[0] - (25 / SCALE), 0],\n",
    "     [RANGE[1] + (25 / SCALE), 0], {\n",
    "    arrows: \"->\"\n",
    "});\n",
    "\n",
    "line([RANGE[1] + (25 / SCALE), 0],\n",
    "     [RANGE[0] - (25 / SCALE), 0], {\n",
    "    arrows: \"->\"\n",
    "});\n",
    "\n",
    "for (var x = RANGE[0]; x <= RANGE[1];\n",
    "        x = roundTo(10, x + TICK_STEP)) {\n",
    "    line([x, -0.2], [x, 0.2]);\n",
    "    if (LABEL_TICKS && !_.findWhere(LABELS,\n",
    "            {value: x, position: \"below\"})) {\n",
    "        label([x, -0.53],  minusIgnorer(x), \"center\");\n",
    "    }\n",
    "}\n",
    "\n",
    "if (typeof(LABELS) !== \"undefined\") {\n",
    "    _.each(LABELS, function(lbl) {\n",
    "        if (lbl.position === \"above\") {\n",
    "            label([lbl.value, 0.53],  minusIgnorer(lbl.text),\n",
    "                    \"center\", {\n",
    "                color: lbl.color\n",
    "            });\n",
    "        } else {\n",
    "            label([lbl.value, -0.53],  minusIgnorer(lbl.text),\n",
    "                    \"center\", {\n",
    "                color: lbl.color\n",
    "            });\n",
    "        }\n",
    "    });\n",
    "}\n",
    "\n",
    "if (typeof(HIGHLIGHTED_TICKS) !== \"undefined\") {\n",
    "    _.each(HIGHLIGHTED_TICKS, function(tick) {\n",
    "        line([tick[0], -0.2], [tick[0], 0.2], {\n",
    "            stroke: tick[1],\n",
    "            strokeWidth: 3.5\n",
    "        });\n",
    "    });\n",
    "}\n",
    "\n",
    "if (typeof(ARROWS) !== \"undefined\") {\n",
    "    _.each(ARROWS, function(arrow) {\n",
    "        arrow[0] = min(arrow[0], RANGE[1] + (26 / SCALE));\n",
    "        arrow[0] = max(arrow[0], RANGE[0] - (26 / SCALE));\n",
    "        arrow[1] = min(arrow[1], RANGE[1] + (26 / SCALE));\n",
    "        arrow[1] = max(arrow[1], RANGE[0] - (26 / SCALE));\n",
    "        line([arrow[0], 0 ], [arrow[1], 0], {\n",
    "            arrows: \"->\",\n",
    "            stroke: arrow[2],\n",
    "            strokeWidth: 3.5\n",
    "        });\n",
    "    });\n",
    "}\n",
    "\n",
    "if (typeof(POINTS) !== \"undefined\") {\n",
    "    _.each(POINTS, function(point) {\n",
    "        ellipse([point[0], 0],\n",
    "                [5 / (400 / (RANGE[1] - RANGE[0])), 5 / 40], {\n",
    "            fill: point[1],\n",
    "            stroke: null\n",
    "        });\n",
    "    });\n",
    "}\n",
    "\n",
    "if (typeof(CIRCLES) !== \"undefined\") {\n",
    "    _.each(CIRCLES, function(point) {\n",
    "        ellipse([point[0], 0],\n",
    "                [5 / (400 / (RANGE[1] - RANGE[0])), 5 / 40], {\n",
    "            fill: _BACKGROUND,\n",
    "            stroke: point[1],\n",
    "            strokeWidth: 3\n",
    "        });\n",
    "    });\n",
    "}\n",
    "\n",
    "-->"
   ]
  },
  {
   "cell_type": "code",
   "execution_count": null,
   "metadata": {
    "collapsed": true
   },
   "outputs": [],
   "source": []
  },
  {
   "cell_type": "code",
   "execution_count": null,
   "metadata": {
    "collapsed": false
   },
   "outputs": [],
   "source": []
  },
  {
   "cell_type": "code",
   "execution_count": null,
   "metadata": {
    "collapsed": true
   },
   "outputs": [],
   "source": []
  }
 ],
 "metadata": {
  "kernelspec": {
   "display_name": "Python 2",
   "language": "python",
   "name": "python2"
  },
  "language_info": {
   "codemirror_mode": {
    "name": "ipython",
    "version": 2
   },
   "file_extension": ".py",
   "mimetype": "text/x-python",
   "name": "python",
   "nbconvert_exporter": "python",
   "pygments_lexer": "ipython2",
   "version": "2.7.11"
  }
 },
 "nbformat": 4,
 "nbformat_minor": 0
}
